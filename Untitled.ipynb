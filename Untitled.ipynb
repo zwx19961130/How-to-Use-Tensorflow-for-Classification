{
 "cells": [
  {
   "cell_type": "code",
   "execution_count": 1,
   "metadata": {
    "collapsed": true,
    "deletable": true,
    "editable": true
   },
   "outputs": [],
   "source": [
    "import numpy as np"
   ]
  },
  {
   "cell_type": "code",
   "execution_count": 6,
   "metadata": {
    "collapsed": true,
    "deletable": true,
    "editable": true
   },
   "outputs": [],
   "source": [
    "w0 = 2 * np.random.random((3, 4)) - 1"
   ]
  },
  {
   "cell_type": "code",
   "execution_count": 7,
   "metadata": {
    "collapsed": false,
    "deletable": true,
    "editable": true
   },
   "outputs": [
    {
     "data": {
      "text/plain": [
       "array([[-0.74970458,  0.05333324,  0.2390808 , -0.86788834],\n",
       "       [ 0.9730671 ,  0.67036883,  0.89589829, -0.61204122],\n",
       "       [ 0.10520131, -0.89245479, -0.73737819, -0.7112819 ]])"
      ]
     },
     "execution_count": 7,
     "metadata": {},
     "output_type": "execute_result"
    }
   ],
   "source": [
    "w0"
   ]
  },
  {
   "cell_type": "code",
   "execution_count": 8,
   "metadata": {
    "collapsed": true,
    "deletable": true,
    "editable": true
   },
   "outputs": [],
   "source": [
    "w1 = 2 * np.random.random((4, 1)) - 1"
   ]
  },
  {
   "cell_type": "code",
   "execution_count": 3,
   "metadata": {
    "collapsed": false,
    "deletable": true,
    "editable": true
   },
   "outputs": [
    {
     "ename": "NameError",
     "evalue": "name 'w1' is not defined",
     "output_type": "error",
     "traceback": [
      "\u001b[0;31m---------------------------------------------------------------------------\u001b[0m",
      "\u001b[0;31mNameError\u001b[0m                                 Traceback (most recent call last)",
      "\u001b[0;32m<ipython-input-3-f3ce62f2dae2>\u001b[0m in \u001b[0;36m<module>\u001b[0;34m()\u001b[0m\n\u001b[0;32m----> 1\u001b[0;31m \u001b[0mw1\u001b[0m\u001b[0;34m\u001b[0m\u001b[0m\n\u001b[0m",
      "\u001b[0;31mNameError\u001b[0m: name 'w1' is not defined"
     ]
    }
   ],
   "source": [
    "w1"
   ]
  },
  {
   "cell_type": "code",
   "execution_count": 2,
   "metadata": {
    "collapsed": false,
    "deletable": true,
    "editable": true
   },
   "outputs": [],
   "source": [
    "import tensorflow as tf\n",
    "import pandas as pd\n",
    "import matplotlib.pyplot as plt\n",
    "import tensorflow as tf"
   ]
  },
  {
   "cell_type": "code",
   "execution_count": 5,
   "metadata": {
    "collapsed": true,
    "deletable": true,
    "editable": true
   },
   "outputs": [],
   "source": [
    "dataframe = pd.read_csv(\"data.csv\")"
   ]
  },
  {
   "cell_type": "code",
   "execution_count": 6,
   "metadata": {
    "collapsed": false,
    "scrolled": false
   },
   "outputs": [
    {
     "data": {
      "text/html": [
       "<div>\n",
       "<table border=\"1\" class=\"dataframe\">\n",
       "  <thead>\n",
       "    <tr style=\"text-align: right;\">\n",
       "      <th></th>\n",
       "      <th>32.502345269453031</th>\n",
       "      <th>31.70700584656992</th>\n",
       "    </tr>\n",
       "  </thead>\n",
       "  <tbody>\n",
       "    <tr>\n",
       "      <th>0</th>\n",
       "      <td>53.426804</td>\n",
       "      <td>68.777596</td>\n",
       "    </tr>\n",
       "    <tr>\n",
       "      <th>1</th>\n",
       "      <td>61.530358</td>\n",
       "      <td>62.562382</td>\n",
       "    </tr>\n",
       "    <tr>\n",
       "      <th>2</th>\n",
       "      <td>47.475640</td>\n",
       "      <td>71.546632</td>\n",
       "    </tr>\n",
       "    <tr>\n",
       "      <th>3</th>\n",
       "      <td>59.813208</td>\n",
       "      <td>87.230925</td>\n",
       "    </tr>\n",
       "    <tr>\n",
       "      <th>4</th>\n",
       "      <td>55.142188</td>\n",
       "      <td>78.211518</td>\n",
       "    </tr>\n",
       "    <tr>\n",
       "      <th>5</th>\n",
       "      <td>52.211797</td>\n",
       "      <td>79.641973</td>\n",
       "    </tr>\n",
       "    <tr>\n",
       "      <th>6</th>\n",
       "      <td>39.299567</td>\n",
       "      <td>59.171489</td>\n",
       "    </tr>\n",
       "    <tr>\n",
       "      <th>7</th>\n",
       "      <td>48.105042</td>\n",
       "      <td>75.331242</td>\n",
       "    </tr>\n",
       "    <tr>\n",
       "      <th>8</th>\n",
       "      <td>52.550014</td>\n",
       "      <td>71.300880</td>\n",
       "    </tr>\n",
       "    <tr>\n",
       "      <th>9</th>\n",
       "      <td>45.419730</td>\n",
       "      <td>55.165677</td>\n",
       "    </tr>\n",
       "    <tr>\n",
       "      <th>10</th>\n",
       "      <td>54.351635</td>\n",
       "      <td>82.478847</td>\n",
       "    </tr>\n",
       "    <tr>\n",
       "      <th>11</th>\n",
       "      <td>44.164049</td>\n",
       "      <td>62.008923</td>\n",
       "    </tr>\n",
       "    <tr>\n",
       "      <th>12</th>\n",
       "      <td>58.168471</td>\n",
       "      <td>75.392870</td>\n",
       "    </tr>\n",
       "    <tr>\n",
       "      <th>13</th>\n",
       "      <td>56.727208</td>\n",
       "      <td>81.436192</td>\n",
       "    </tr>\n",
       "    <tr>\n",
       "      <th>14</th>\n",
       "      <td>48.955889</td>\n",
       "      <td>60.723602</td>\n",
       "    </tr>\n",
       "    <tr>\n",
       "      <th>15</th>\n",
       "      <td>44.687196</td>\n",
       "      <td>82.892504</td>\n",
       "    </tr>\n",
       "    <tr>\n",
       "      <th>16</th>\n",
       "      <td>60.297327</td>\n",
       "      <td>97.379897</td>\n",
       "    </tr>\n",
       "    <tr>\n",
       "      <th>17</th>\n",
       "      <td>45.618644</td>\n",
       "      <td>48.847153</td>\n",
       "    </tr>\n",
       "    <tr>\n",
       "      <th>18</th>\n",
       "      <td>38.816818</td>\n",
       "      <td>56.877213</td>\n",
       "    </tr>\n",
       "    <tr>\n",
       "      <th>19</th>\n",
       "      <td>66.189817</td>\n",
       "      <td>83.878565</td>\n",
       "    </tr>\n",
       "    <tr>\n",
       "      <th>20</th>\n",
       "      <td>65.416052</td>\n",
       "      <td>118.591217</td>\n",
       "    </tr>\n",
       "    <tr>\n",
       "      <th>21</th>\n",
       "      <td>47.481209</td>\n",
       "      <td>57.251819</td>\n",
       "    </tr>\n",
       "    <tr>\n",
       "      <th>22</th>\n",
       "      <td>41.575643</td>\n",
       "      <td>51.391744</td>\n",
       "    </tr>\n",
       "    <tr>\n",
       "      <th>23</th>\n",
       "      <td>51.845187</td>\n",
       "      <td>75.380652</td>\n",
       "    </tr>\n",
       "    <tr>\n",
       "      <th>24</th>\n",
       "      <td>59.370822</td>\n",
       "      <td>74.765564</td>\n",
       "    </tr>\n",
       "    <tr>\n",
       "      <th>25</th>\n",
       "      <td>57.310003</td>\n",
       "      <td>95.455053</td>\n",
       "    </tr>\n",
       "    <tr>\n",
       "      <th>26</th>\n",
       "      <td>63.615561</td>\n",
       "      <td>95.229366</td>\n",
       "    </tr>\n",
       "    <tr>\n",
       "      <th>27</th>\n",
       "      <td>46.737619</td>\n",
       "      <td>79.052406</td>\n",
       "    </tr>\n",
       "    <tr>\n",
       "      <th>28</th>\n",
       "      <td>50.556760</td>\n",
       "      <td>83.432071</td>\n",
       "    </tr>\n",
       "    <tr>\n",
       "      <th>29</th>\n",
       "      <td>52.223996</td>\n",
       "      <td>63.358790</td>\n",
       "    </tr>\n",
       "    <tr>\n",
       "      <th>...</th>\n",
       "      <td>...</td>\n",
       "      <td>...</td>\n",
       "    </tr>\n",
       "    <tr>\n",
       "      <th>69</th>\n",
       "      <td>31.588117</td>\n",
       "      <td>50.392670</td>\n",
       "    </tr>\n",
       "    <tr>\n",
       "      <th>70</th>\n",
       "      <td>53.660932</td>\n",
       "      <td>63.642399</td>\n",
       "    </tr>\n",
       "    <tr>\n",
       "      <th>71</th>\n",
       "      <td>46.682229</td>\n",
       "      <td>72.247251</td>\n",
       "    </tr>\n",
       "    <tr>\n",
       "      <th>72</th>\n",
       "      <td>43.107820</td>\n",
       "      <td>57.812513</td>\n",
       "    </tr>\n",
       "    <tr>\n",
       "      <th>73</th>\n",
       "      <td>70.346076</td>\n",
       "      <td>104.257102</td>\n",
       "    </tr>\n",
       "    <tr>\n",
       "      <th>74</th>\n",
       "      <td>44.492856</td>\n",
       "      <td>86.642020</td>\n",
       "    </tr>\n",
       "    <tr>\n",
       "      <th>75</th>\n",
       "      <td>57.504533</td>\n",
       "      <td>91.486778</td>\n",
       "    </tr>\n",
       "    <tr>\n",
       "      <th>76</th>\n",
       "      <td>36.930077</td>\n",
       "      <td>55.231661</td>\n",
       "    </tr>\n",
       "    <tr>\n",
       "      <th>77</th>\n",
       "      <td>55.805733</td>\n",
       "      <td>79.550437</td>\n",
       "    </tr>\n",
       "    <tr>\n",
       "      <th>78</th>\n",
       "      <td>38.954769</td>\n",
       "      <td>44.847124</td>\n",
       "    </tr>\n",
       "    <tr>\n",
       "      <th>79</th>\n",
       "      <td>56.901215</td>\n",
       "      <td>80.207523</td>\n",
       "    </tr>\n",
       "    <tr>\n",
       "      <th>80</th>\n",
       "      <td>56.868901</td>\n",
       "      <td>83.142750</td>\n",
       "    </tr>\n",
       "    <tr>\n",
       "      <th>81</th>\n",
       "      <td>34.333125</td>\n",
       "      <td>55.723489</td>\n",
       "    </tr>\n",
       "    <tr>\n",
       "      <th>82</th>\n",
       "      <td>59.049741</td>\n",
       "      <td>77.634183</td>\n",
       "    </tr>\n",
       "    <tr>\n",
       "      <th>83</th>\n",
       "      <td>57.788224</td>\n",
       "      <td>99.051415</td>\n",
       "    </tr>\n",
       "    <tr>\n",
       "      <th>84</th>\n",
       "      <td>54.282329</td>\n",
       "      <td>79.120646</td>\n",
       "    </tr>\n",
       "    <tr>\n",
       "      <th>85</th>\n",
       "      <td>51.088720</td>\n",
       "      <td>69.588898</td>\n",
       "    </tr>\n",
       "    <tr>\n",
       "      <th>86</th>\n",
       "      <td>50.282836</td>\n",
       "      <td>69.510503</td>\n",
       "    </tr>\n",
       "    <tr>\n",
       "      <th>87</th>\n",
       "      <td>44.211742</td>\n",
       "      <td>73.687564</td>\n",
       "    </tr>\n",
       "    <tr>\n",
       "      <th>88</th>\n",
       "      <td>38.005488</td>\n",
       "      <td>61.366905</td>\n",
       "    </tr>\n",
       "    <tr>\n",
       "      <th>89</th>\n",
       "      <td>32.940480</td>\n",
       "      <td>67.170656</td>\n",
       "    </tr>\n",
       "    <tr>\n",
       "      <th>90</th>\n",
       "      <td>53.691640</td>\n",
       "      <td>85.668203</td>\n",
       "    </tr>\n",
       "    <tr>\n",
       "      <th>91</th>\n",
       "      <td>68.765734</td>\n",
       "      <td>114.853871</td>\n",
       "    </tr>\n",
       "    <tr>\n",
       "      <th>92</th>\n",
       "      <td>46.230966</td>\n",
       "      <td>90.123572</td>\n",
       "    </tr>\n",
       "    <tr>\n",
       "      <th>93</th>\n",
       "      <td>68.319361</td>\n",
       "      <td>97.919821</td>\n",
       "    </tr>\n",
       "    <tr>\n",
       "      <th>94</th>\n",
       "      <td>50.030174</td>\n",
       "      <td>81.536991</td>\n",
       "    </tr>\n",
       "    <tr>\n",
       "      <th>95</th>\n",
       "      <td>49.239765</td>\n",
       "      <td>72.111832</td>\n",
       "    </tr>\n",
       "    <tr>\n",
       "      <th>96</th>\n",
       "      <td>50.039576</td>\n",
       "      <td>85.232007</td>\n",
       "    </tr>\n",
       "    <tr>\n",
       "      <th>97</th>\n",
       "      <td>48.149859</td>\n",
       "      <td>66.224958</td>\n",
       "    </tr>\n",
       "    <tr>\n",
       "      <th>98</th>\n",
       "      <td>25.128485</td>\n",
       "      <td>53.454394</td>\n",
       "    </tr>\n",
       "  </tbody>\n",
       "</table>\n",
       "<p>99 rows × 2 columns</p>\n",
       "</div>"
      ],
      "text/plain": [
       "    32.502345269453031  31.70700584656992\n",
       "0            53.426804          68.777596\n",
       "1            61.530358          62.562382\n",
       "2            47.475640          71.546632\n",
       "3            59.813208          87.230925\n",
       "4            55.142188          78.211518\n",
       "5            52.211797          79.641973\n",
       "6            39.299567          59.171489\n",
       "7            48.105042          75.331242\n",
       "8            52.550014          71.300880\n",
       "9            45.419730          55.165677\n",
       "10           54.351635          82.478847\n",
       "11           44.164049          62.008923\n",
       "12           58.168471          75.392870\n",
       "13           56.727208          81.436192\n",
       "14           48.955889          60.723602\n",
       "15           44.687196          82.892504\n",
       "16           60.297327          97.379897\n",
       "17           45.618644          48.847153\n",
       "18           38.816818          56.877213\n",
       "19           66.189817          83.878565\n",
       "20           65.416052         118.591217\n",
       "21           47.481209          57.251819\n",
       "22           41.575643          51.391744\n",
       "23           51.845187          75.380652\n",
       "24           59.370822          74.765564\n",
       "25           57.310003          95.455053\n",
       "26           63.615561          95.229366\n",
       "27           46.737619          79.052406\n",
       "28           50.556760          83.432071\n",
       "29           52.223996          63.358790\n",
       "..                 ...                ...\n",
       "69           31.588117          50.392670\n",
       "70           53.660932          63.642399\n",
       "71           46.682229          72.247251\n",
       "72           43.107820          57.812513\n",
       "73           70.346076         104.257102\n",
       "74           44.492856          86.642020\n",
       "75           57.504533          91.486778\n",
       "76           36.930077          55.231661\n",
       "77           55.805733          79.550437\n",
       "78           38.954769          44.847124\n",
       "79           56.901215          80.207523\n",
       "80           56.868901          83.142750\n",
       "81           34.333125          55.723489\n",
       "82           59.049741          77.634183\n",
       "83           57.788224          99.051415\n",
       "84           54.282329          79.120646\n",
       "85           51.088720          69.588898\n",
       "86           50.282836          69.510503\n",
       "87           44.211742          73.687564\n",
       "88           38.005488          61.366905\n",
       "89           32.940480          67.170656\n",
       "90           53.691640          85.668203\n",
       "91           68.765734         114.853871\n",
       "92           46.230966          90.123572\n",
       "93           68.319361          97.919821\n",
       "94           50.030174          81.536991\n",
       "95           49.239765          72.111832\n",
       "96           50.039576          85.232007\n",
       "97           48.149859          66.224958\n",
       "98           25.128485          53.454394\n",
       "\n",
       "[99 rows x 2 columns]"
      ]
     },
     "execution_count": 6,
     "metadata": {},
     "output_type": "execute_result"
    }
   ],
   "source": [
    "dataframe"
   ]
  },
  {
   "cell_type": "code",
   "execution_count": 7,
   "metadata": {
    "collapsed": true
   },
   "outputs": [],
   "source": [
    "dataframe = dataframe[0:10]"
   ]
  },
  {
   "cell_type": "code",
   "execution_count": 8,
   "metadata": {
    "collapsed": false
   },
   "outputs": [
    {
     "data": {
      "text/html": [
       "<div>\n",
       "<table border=\"1\" class=\"dataframe\">\n",
       "  <thead>\n",
       "    <tr style=\"text-align: right;\">\n",
       "      <th></th>\n",
       "      <th>32.502345269453031</th>\n",
       "      <th>31.70700584656992</th>\n",
       "    </tr>\n",
       "  </thead>\n",
       "  <tbody>\n",
       "    <tr>\n",
       "      <th>0</th>\n",
       "      <td>53.426804</td>\n",
       "      <td>68.777596</td>\n",
       "    </tr>\n",
       "    <tr>\n",
       "      <th>1</th>\n",
       "      <td>61.530358</td>\n",
       "      <td>62.562382</td>\n",
       "    </tr>\n",
       "    <tr>\n",
       "      <th>2</th>\n",
       "      <td>47.475640</td>\n",
       "      <td>71.546632</td>\n",
       "    </tr>\n",
       "    <tr>\n",
       "      <th>3</th>\n",
       "      <td>59.813208</td>\n",
       "      <td>87.230925</td>\n",
       "    </tr>\n",
       "    <tr>\n",
       "      <th>4</th>\n",
       "      <td>55.142188</td>\n",
       "      <td>78.211518</td>\n",
       "    </tr>\n",
       "    <tr>\n",
       "      <th>5</th>\n",
       "      <td>52.211797</td>\n",
       "      <td>79.641973</td>\n",
       "    </tr>\n",
       "    <tr>\n",
       "      <th>6</th>\n",
       "      <td>39.299567</td>\n",
       "      <td>59.171489</td>\n",
       "    </tr>\n",
       "    <tr>\n",
       "      <th>7</th>\n",
       "      <td>48.105042</td>\n",
       "      <td>75.331242</td>\n",
       "    </tr>\n",
       "    <tr>\n",
       "      <th>8</th>\n",
       "      <td>52.550014</td>\n",
       "      <td>71.300880</td>\n",
       "    </tr>\n",
       "    <tr>\n",
       "      <th>9</th>\n",
       "      <td>45.419730</td>\n",
       "      <td>55.165677</td>\n",
       "    </tr>\n",
       "  </tbody>\n",
       "</table>\n",
       "</div>"
      ],
      "text/plain": [
       "   32.502345269453031  31.70700584656992\n",
       "0           53.426804          68.777596\n",
       "1           61.530358          62.562382\n",
       "2           47.475640          71.546632\n",
       "3           59.813208          87.230925\n",
       "4           55.142188          78.211518\n",
       "5           52.211797          79.641973\n",
       "6           39.299567          59.171489\n",
       "7           48.105042          75.331242\n",
       "8           52.550014          71.300880\n",
       "9           45.419730          55.165677"
      ]
     },
     "execution_count": 8,
     "metadata": {},
     "output_type": "execute_result"
    }
   ],
   "source": [
    "dataframe"
   ]
  },
  {
   "cell_type": "code",
   "execution_count": 12,
   "metadata": {
    "collapsed": false
   },
   "outputs": [
    {
     "name": "stderr",
     "output_type": "stream",
     "text": [
      "/Library/Python/2.7/site-packages/pandas/core/indexing.py:297: SettingWithCopyWarning: \n",
      "A value is trying to be set on a copy of a slice from a DataFrame.\n",
      "Try using .loc[row_indexer,col_indexer] = value instead\n",
      "\n",
      "See the caveats in the documentation: http://pandas.pydata.org/pandas-docs/stable/indexing.html#indexing-view-versus-copy\n",
      "  self.obj[key] = _infer_fill_value(value)\n",
      "/Library/Python/2.7/site-packages/pandas/core/indexing.py:561: SettingWithCopyWarning: \n",
      "A value is trying to be set on a copy of a slice from a DataFrame.\n",
      "Try using .loc[row_indexer,col_indexer] = value instead\n",
      "\n",
      "See the caveats in the documentation: http://pandas.pydata.org/pandas-docs/stable/indexing.html#indexing-view-versus-copy\n",
      "  self.obj[item_labels[indexer[info_axis]]] = value\n"
     ]
    }
   ],
   "source": [
    "dataframe.loc[:, (\"y1\")] = [1, 1, 1, 0, 0, 1, 0, 1, 1, 1]"
   ]
  },
  {
   "cell_type": "code",
   "execution_count": 37,
   "metadata": {
    "collapsed": false
   },
   "outputs": [],
   "source": [
    "dataframe = pd.read_csv(\"data.csv\")"
   ]
  },
  {
   "cell_type": "code",
   "execution_count": 38,
   "metadata": {
    "collapsed": false
   },
   "outputs": [
    {
     "data": {
      "text/html": [
       "<div>\n",
       "<table border=\"1\" class=\"dataframe\">\n",
       "  <thead>\n",
       "    <tr style=\"text-align: right;\">\n",
       "      <th></th>\n",
       "      <th>index</th>\n",
       "      <th>area</th>\n",
       "      <th>bathrooms</th>\n",
       "      <th>price</th>\n",
       "      <th>sq_price</th>\n",
       "    </tr>\n",
       "  </thead>\n",
       "  <tbody>\n",
       "    <tr>\n",
       "      <th>0</th>\n",
       "      <td>0</td>\n",
       "      <td>2104.0</td>\n",
       "      <td>3.0</td>\n",
       "      <td>399900.0</td>\n",
       "      <td>190.066540</td>\n",
       "    </tr>\n",
       "    <tr>\n",
       "      <th>1</th>\n",
       "      <td>1</td>\n",
       "      <td>1600.0</td>\n",
       "      <td>3.0</td>\n",
       "      <td>329900.0</td>\n",
       "      <td>206.187500</td>\n",
       "    </tr>\n",
       "    <tr>\n",
       "      <th>2</th>\n",
       "      <td>2</td>\n",
       "      <td>2400.0</td>\n",
       "      <td>3.0</td>\n",
       "      <td>369000.0</td>\n",
       "      <td>153.750000</td>\n",
       "    </tr>\n",
       "    <tr>\n",
       "      <th>3</th>\n",
       "      <td>3</td>\n",
       "      <td>1416.0</td>\n",
       "      <td>2.0</td>\n",
       "      <td>232000.0</td>\n",
       "      <td>163.841808</td>\n",
       "    </tr>\n",
       "    <tr>\n",
       "      <th>4</th>\n",
       "      <td>4</td>\n",
       "      <td>3000.0</td>\n",
       "      <td>4.0</td>\n",
       "      <td>539900.0</td>\n",
       "      <td>179.966667</td>\n",
       "    </tr>\n",
       "    <tr>\n",
       "      <th>5</th>\n",
       "      <td>5</td>\n",
       "      <td>1985.0</td>\n",
       "      <td>4.0</td>\n",
       "      <td>299900.0</td>\n",
       "      <td>151.083123</td>\n",
       "    </tr>\n",
       "    <tr>\n",
       "      <th>6</th>\n",
       "      <td>6</td>\n",
       "      <td>1534.0</td>\n",
       "      <td>3.0</td>\n",
       "      <td>314900.0</td>\n",
       "      <td>205.280313</td>\n",
       "    </tr>\n",
       "    <tr>\n",
       "      <th>7</th>\n",
       "      <td>7</td>\n",
       "      <td>1427.0</td>\n",
       "      <td>3.0</td>\n",
       "      <td>198999.0</td>\n",
       "      <td>139.452698</td>\n",
       "    </tr>\n",
       "    <tr>\n",
       "      <th>8</th>\n",
       "      <td>8</td>\n",
       "      <td>1380.0</td>\n",
       "      <td>3.0</td>\n",
       "      <td>212000.0</td>\n",
       "      <td>153.623188</td>\n",
       "    </tr>\n",
       "    <tr>\n",
       "      <th>9</th>\n",
       "      <td>9</td>\n",
       "      <td>1494.0</td>\n",
       "      <td>3.0</td>\n",
       "      <td>242500.0</td>\n",
       "      <td>162.315930</td>\n",
       "    </tr>\n",
       "    <tr>\n",
       "      <th>10</th>\n",
       "      <td>10</td>\n",
       "      <td>1940.0</td>\n",
       "      <td>4.0</td>\n",
       "      <td>239999.0</td>\n",
       "      <td>123.710825</td>\n",
       "    </tr>\n",
       "    <tr>\n",
       "      <th>11</th>\n",
       "      <td>11</td>\n",
       "      <td>2000.0</td>\n",
       "      <td>3.0</td>\n",
       "      <td>347000.0</td>\n",
       "      <td>173.500000</td>\n",
       "    </tr>\n",
       "    <tr>\n",
       "      <th>12</th>\n",
       "      <td>12</td>\n",
       "      <td>1890.0</td>\n",
       "      <td>3.0</td>\n",
       "      <td>329999.0</td>\n",
       "      <td>174.602646</td>\n",
       "    </tr>\n",
       "    <tr>\n",
       "      <th>13</th>\n",
       "      <td>13</td>\n",
       "      <td>4478.0</td>\n",
       "      <td>5.0</td>\n",
       "      <td>699900.0</td>\n",
       "      <td>156.297454</td>\n",
       "    </tr>\n",
       "    <tr>\n",
       "      <th>14</th>\n",
       "      <td>14</td>\n",
       "      <td>1268.0</td>\n",
       "      <td>3.0</td>\n",
       "      <td>259900.0</td>\n",
       "      <td>204.968454</td>\n",
       "    </tr>\n",
       "    <tr>\n",
       "      <th>15</th>\n",
       "      <td>15</td>\n",
       "      <td>2300.0</td>\n",
       "      <td>4.0</td>\n",
       "      <td>449900.0</td>\n",
       "      <td>195.608696</td>\n",
       "    </tr>\n",
       "    <tr>\n",
       "      <th>16</th>\n",
       "      <td>16</td>\n",
       "      <td>1320.0</td>\n",
       "      <td>2.0</td>\n",
       "      <td>299900.0</td>\n",
       "      <td>227.196970</td>\n",
       "    </tr>\n",
       "    <tr>\n",
       "      <th>17</th>\n",
       "      <td>17</td>\n",
       "      <td>1236.0</td>\n",
       "      <td>3.0</td>\n",
       "      <td>199900.0</td>\n",
       "      <td>161.731392</td>\n",
       "    </tr>\n",
       "    <tr>\n",
       "      <th>18</th>\n",
       "      <td>18</td>\n",
       "      <td>2609.0</td>\n",
       "      <td>4.0</td>\n",
       "      <td>499998.0</td>\n",
       "      <td>191.643542</td>\n",
       "    </tr>\n",
       "    <tr>\n",
       "      <th>19</th>\n",
       "      <td>19</td>\n",
       "      <td>3031.0</td>\n",
       "      <td>4.0</td>\n",
       "      <td>599000.0</td>\n",
       "      <td>197.624546</td>\n",
       "    </tr>\n",
       "    <tr>\n",
       "      <th>20</th>\n",
       "      <td>20</td>\n",
       "      <td>1767.0</td>\n",
       "      <td>3.0</td>\n",
       "      <td>252900.0</td>\n",
       "      <td>143.123939</td>\n",
       "    </tr>\n",
       "    <tr>\n",
       "      <th>21</th>\n",
       "      <td>21</td>\n",
       "      <td>1888.0</td>\n",
       "      <td>2.0</td>\n",
       "      <td>255000.0</td>\n",
       "      <td>135.063559</td>\n",
       "    </tr>\n",
       "    <tr>\n",
       "      <th>22</th>\n",
       "      <td>22</td>\n",
       "      <td>1604.0</td>\n",
       "      <td>3.0</td>\n",
       "      <td>242900.0</td>\n",
       "      <td>151.433915</td>\n",
       "    </tr>\n",
       "    <tr>\n",
       "      <th>23</th>\n",
       "      <td>23</td>\n",
       "      <td>1962.0</td>\n",
       "      <td>4.0</td>\n",
       "      <td>259900.0</td>\n",
       "      <td>132.466871</td>\n",
       "    </tr>\n",
       "    <tr>\n",
       "      <th>24</th>\n",
       "      <td>24</td>\n",
       "      <td>3890.0</td>\n",
       "      <td>3.0</td>\n",
       "      <td>573900.0</td>\n",
       "      <td>147.532134</td>\n",
       "    </tr>\n",
       "    <tr>\n",
       "      <th>25</th>\n",
       "      <td>25</td>\n",
       "      <td>1100.0</td>\n",
       "      <td>3.0</td>\n",
       "      <td>249900.0</td>\n",
       "      <td>227.181818</td>\n",
       "    </tr>\n",
       "    <tr>\n",
       "      <th>26</th>\n",
       "      <td>26</td>\n",
       "      <td>1458.0</td>\n",
       "      <td>3.0</td>\n",
       "      <td>464500.0</td>\n",
       "      <td>318.587106</td>\n",
       "    </tr>\n",
       "    <tr>\n",
       "      <th>27</th>\n",
       "      <td>27</td>\n",
       "      <td>2526.0</td>\n",
       "      <td>3.0</td>\n",
       "      <td>469000.0</td>\n",
       "      <td>185.669042</td>\n",
       "    </tr>\n",
       "    <tr>\n",
       "      <th>28</th>\n",
       "      <td>28</td>\n",
       "      <td>2200.0</td>\n",
       "      <td>3.0</td>\n",
       "      <td>475000.0</td>\n",
       "      <td>215.909091</td>\n",
       "    </tr>\n",
       "    <tr>\n",
       "      <th>29</th>\n",
       "      <td>29</td>\n",
       "      <td>2637.0</td>\n",
       "      <td>3.0</td>\n",
       "      <td>299900.0</td>\n",
       "      <td>113.727721</td>\n",
       "    </tr>\n",
       "    <tr>\n",
       "      <th>30</th>\n",
       "      <td>30</td>\n",
       "      <td>1839.0</td>\n",
       "      <td>2.0</td>\n",
       "      <td>349900.0</td>\n",
       "      <td>190.266449</td>\n",
       "    </tr>\n",
       "    <tr>\n",
       "      <th>31</th>\n",
       "      <td>31</td>\n",
       "      <td>1000.0</td>\n",
       "      <td>1.0</td>\n",
       "      <td>169900.0</td>\n",
       "      <td>169.900000</td>\n",
       "    </tr>\n",
       "    <tr>\n",
       "      <th>32</th>\n",
       "      <td>32</td>\n",
       "      <td>2040.0</td>\n",
       "      <td>4.0</td>\n",
       "      <td>314900.0</td>\n",
       "      <td>154.362745</td>\n",
       "    </tr>\n",
       "    <tr>\n",
       "      <th>33</th>\n",
       "      <td>33</td>\n",
       "      <td>3137.0</td>\n",
       "      <td>3.0</td>\n",
       "      <td>579900.0</td>\n",
       "      <td>184.858145</td>\n",
       "    </tr>\n",
       "    <tr>\n",
       "      <th>34</th>\n",
       "      <td>34</td>\n",
       "      <td>1811.0</td>\n",
       "      <td>4.0</td>\n",
       "      <td>285900.0</td>\n",
       "      <td>157.868581</td>\n",
       "    </tr>\n",
       "    <tr>\n",
       "      <th>35</th>\n",
       "      <td>35</td>\n",
       "      <td>1437.0</td>\n",
       "      <td>3.0</td>\n",
       "      <td>249900.0</td>\n",
       "      <td>173.903967</td>\n",
       "    </tr>\n",
       "    <tr>\n",
       "      <th>36</th>\n",
       "      <td>36</td>\n",
       "      <td>1239.0</td>\n",
       "      <td>3.0</td>\n",
       "      <td>229900.0</td>\n",
       "      <td>185.552865</td>\n",
       "    </tr>\n",
       "    <tr>\n",
       "      <th>37</th>\n",
       "      <td>37</td>\n",
       "      <td>2132.0</td>\n",
       "      <td>4.0</td>\n",
       "      <td>345000.0</td>\n",
       "      <td>161.819887</td>\n",
       "    </tr>\n",
       "    <tr>\n",
       "      <th>38</th>\n",
       "      <td>38</td>\n",
       "      <td>4215.0</td>\n",
       "      <td>4.0</td>\n",
       "      <td>549000.0</td>\n",
       "      <td>130.249110</td>\n",
       "    </tr>\n",
       "    <tr>\n",
       "      <th>39</th>\n",
       "      <td>39</td>\n",
       "      <td>2162.0</td>\n",
       "      <td>4.0</td>\n",
       "      <td>287000.0</td>\n",
       "      <td>132.747456</td>\n",
       "    </tr>\n",
       "    <tr>\n",
       "      <th>40</th>\n",
       "      <td>40</td>\n",
       "      <td>1664.0</td>\n",
       "      <td>2.0</td>\n",
       "      <td>368500.0</td>\n",
       "      <td>221.454327</td>\n",
       "    </tr>\n",
       "    <tr>\n",
       "      <th>41</th>\n",
       "      <td>41</td>\n",
       "      <td>2238.0</td>\n",
       "      <td>3.0</td>\n",
       "      <td>329900.0</td>\n",
       "      <td>147.408400</td>\n",
       "    </tr>\n",
       "    <tr>\n",
       "      <th>42</th>\n",
       "      <td>42</td>\n",
       "      <td>2567.0</td>\n",
       "      <td>4.0</td>\n",
       "      <td>314000.0</td>\n",
       "      <td>122.321776</td>\n",
       "    </tr>\n",
       "    <tr>\n",
       "      <th>43</th>\n",
       "      <td>43</td>\n",
       "      <td>1200.0</td>\n",
       "      <td>3.0</td>\n",
       "      <td>299000.0</td>\n",
       "      <td>249.166667</td>\n",
       "    </tr>\n",
       "    <tr>\n",
       "      <th>44</th>\n",
       "      <td>44</td>\n",
       "      <td>852.0</td>\n",
       "      <td>2.0</td>\n",
       "      <td>179900.0</td>\n",
       "      <td>211.150235</td>\n",
       "    </tr>\n",
       "    <tr>\n",
       "      <th>45</th>\n",
       "      <td>45</td>\n",
       "      <td>1852.0</td>\n",
       "      <td>4.0</td>\n",
       "      <td>299900.0</td>\n",
       "      <td>161.933045</td>\n",
       "    </tr>\n",
       "    <tr>\n",
       "      <th>46</th>\n",
       "      <td>46</td>\n",
       "      <td>1203.0</td>\n",
       "      <td>3.0</td>\n",
       "      <td>239500.0</td>\n",
       "      <td>199.085619</td>\n",
       "    </tr>\n",
       "  </tbody>\n",
       "</table>\n",
       "</div>"
      ],
      "text/plain": [
       "    index    area  bathrooms     price    sq_price\n",
       "0       0  2104.0        3.0  399900.0  190.066540\n",
       "1       1  1600.0        3.0  329900.0  206.187500\n",
       "2       2  2400.0        3.0  369000.0  153.750000\n",
       "3       3  1416.0        2.0  232000.0  163.841808\n",
       "4       4  3000.0        4.0  539900.0  179.966667\n",
       "5       5  1985.0        4.0  299900.0  151.083123\n",
       "6       6  1534.0        3.0  314900.0  205.280313\n",
       "7       7  1427.0        3.0  198999.0  139.452698\n",
       "8       8  1380.0        3.0  212000.0  153.623188\n",
       "9       9  1494.0        3.0  242500.0  162.315930\n",
       "10     10  1940.0        4.0  239999.0  123.710825\n",
       "11     11  2000.0        3.0  347000.0  173.500000\n",
       "12     12  1890.0        3.0  329999.0  174.602646\n",
       "13     13  4478.0        5.0  699900.0  156.297454\n",
       "14     14  1268.0        3.0  259900.0  204.968454\n",
       "15     15  2300.0        4.0  449900.0  195.608696\n",
       "16     16  1320.0        2.0  299900.0  227.196970\n",
       "17     17  1236.0        3.0  199900.0  161.731392\n",
       "18     18  2609.0        4.0  499998.0  191.643542\n",
       "19     19  3031.0        4.0  599000.0  197.624546\n",
       "20     20  1767.0        3.0  252900.0  143.123939\n",
       "21     21  1888.0        2.0  255000.0  135.063559\n",
       "22     22  1604.0        3.0  242900.0  151.433915\n",
       "23     23  1962.0        4.0  259900.0  132.466871\n",
       "24     24  3890.0        3.0  573900.0  147.532134\n",
       "25     25  1100.0        3.0  249900.0  227.181818\n",
       "26     26  1458.0        3.0  464500.0  318.587106\n",
       "27     27  2526.0        3.0  469000.0  185.669042\n",
       "28     28  2200.0        3.0  475000.0  215.909091\n",
       "29     29  2637.0        3.0  299900.0  113.727721\n",
       "30     30  1839.0        2.0  349900.0  190.266449\n",
       "31     31  1000.0        1.0  169900.0  169.900000\n",
       "32     32  2040.0        4.0  314900.0  154.362745\n",
       "33     33  3137.0        3.0  579900.0  184.858145\n",
       "34     34  1811.0        4.0  285900.0  157.868581\n",
       "35     35  1437.0        3.0  249900.0  173.903967\n",
       "36     36  1239.0        3.0  229900.0  185.552865\n",
       "37     37  2132.0        4.0  345000.0  161.819887\n",
       "38     38  4215.0        4.0  549000.0  130.249110\n",
       "39     39  2162.0        4.0  287000.0  132.747456\n",
       "40     40  1664.0        2.0  368500.0  221.454327\n",
       "41     41  2238.0        3.0  329900.0  147.408400\n",
       "42     42  2567.0        4.0  314000.0  122.321776\n",
       "43     43  1200.0        3.0  299000.0  249.166667\n",
       "44     44   852.0        2.0  179900.0  211.150235\n",
       "45     45  1852.0        4.0  299900.0  161.933045\n",
       "46     46  1203.0        3.0  239500.0  199.085619"
      ]
     },
     "execution_count": 38,
     "metadata": {},
     "output_type": "execute_result"
    }
   ],
   "source": [
    "dataframe"
   ]
  },
  {
   "cell_type": "code",
   "execution_count": 39,
   "metadata": {
    "collapsed": false
   },
   "outputs": [],
   "source": [
    "dataframe = dataframe.drop([\"index\", \"price\", \"sq_price\"], axis=1)"
   ]
  },
  {
   "cell_type": "code",
   "execution_count": 40,
   "metadata": {
    "collapsed": true
   },
   "outputs": [],
   "source": [
    "dataframe = dataframe[0:10]"
   ]
  },
  {
   "cell_type": "code",
   "execution_count": 41,
   "metadata": {
    "collapsed": false
   },
   "outputs": [
    {
     "data": {
      "text/html": [
       "<div>\n",
       "<table border=\"1\" class=\"dataframe\">\n",
       "  <thead>\n",
       "    <tr style=\"text-align: right;\">\n",
       "      <th></th>\n",
       "      <th>area</th>\n",
       "      <th>bathrooms</th>\n",
       "    </tr>\n",
       "  </thead>\n",
       "  <tbody>\n",
       "    <tr>\n",
       "      <th>0</th>\n",
       "      <td>2104.0</td>\n",
       "      <td>3.0</td>\n",
       "    </tr>\n",
       "    <tr>\n",
       "      <th>1</th>\n",
       "      <td>1600.0</td>\n",
       "      <td>3.0</td>\n",
       "    </tr>\n",
       "    <tr>\n",
       "      <th>2</th>\n",
       "      <td>2400.0</td>\n",
       "      <td>3.0</td>\n",
       "    </tr>\n",
       "    <tr>\n",
       "      <th>3</th>\n",
       "      <td>1416.0</td>\n",
       "      <td>2.0</td>\n",
       "    </tr>\n",
       "    <tr>\n",
       "      <th>4</th>\n",
       "      <td>3000.0</td>\n",
       "      <td>4.0</td>\n",
       "    </tr>\n",
       "    <tr>\n",
       "      <th>5</th>\n",
       "      <td>1985.0</td>\n",
       "      <td>4.0</td>\n",
       "    </tr>\n",
       "    <tr>\n",
       "      <th>6</th>\n",
       "      <td>1534.0</td>\n",
       "      <td>3.0</td>\n",
       "    </tr>\n",
       "    <tr>\n",
       "      <th>7</th>\n",
       "      <td>1427.0</td>\n",
       "      <td>3.0</td>\n",
       "    </tr>\n",
       "    <tr>\n",
       "      <th>8</th>\n",
       "      <td>1380.0</td>\n",
       "      <td>3.0</td>\n",
       "    </tr>\n",
       "    <tr>\n",
       "      <th>9</th>\n",
       "      <td>1494.0</td>\n",
       "      <td>3.0</td>\n",
       "    </tr>\n",
       "  </tbody>\n",
       "</table>\n",
       "</div>"
      ],
      "text/plain": [
       "     area  bathrooms\n",
       "0  2104.0        3.0\n",
       "1  1600.0        3.0\n",
       "2  2400.0        3.0\n",
       "3  1416.0        2.0\n",
       "4  3000.0        4.0\n",
       "5  1985.0        4.0\n",
       "6  1534.0        3.0\n",
       "7  1427.0        3.0\n",
       "8  1380.0        3.0\n",
       "9  1494.0        3.0"
      ]
     },
     "execution_count": 41,
     "metadata": {},
     "output_type": "execute_result"
    }
   ],
   "source": [
    "dataframe"
   ]
  },
  {
   "cell_type": "code",
   "execution_count": 42,
   "metadata": {
    "collapsed": false
   },
   "outputs": [],
   "source": [
    "dataframe.loc[:, (\"y1\")] = [1, 1, 1, 0, 0, 1, 0, 1, 1, 1] "
   ]
  },
  {
   "cell_type": "code",
   "execution_count": 43,
   "metadata": {
    "collapsed": false
   },
   "outputs": [
    {
     "data": {
      "text/html": [
       "<div>\n",
       "<table border=\"1\" class=\"dataframe\">\n",
       "  <thead>\n",
       "    <tr style=\"text-align: right;\">\n",
       "      <th></th>\n",
       "      <th>area</th>\n",
       "      <th>bathrooms</th>\n",
       "      <th>y1</th>\n",
       "    </tr>\n",
       "  </thead>\n",
       "  <tbody>\n",
       "    <tr>\n",
       "      <th>0</th>\n",
       "      <td>2104.0</td>\n",
       "      <td>3.0</td>\n",
       "      <td>1</td>\n",
       "    </tr>\n",
       "    <tr>\n",
       "      <th>1</th>\n",
       "      <td>1600.0</td>\n",
       "      <td>3.0</td>\n",
       "      <td>1</td>\n",
       "    </tr>\n",
       "    <tr>\n",
       "      <th>2</th>\n",
       "      <td>2400.0</td>\n",
       "      <td>3.0</td>\n",
       "      <td>1</td>\n",
       "    </tr>\n",
       "    <tr>\n",
       "      <th>3</th>\n",
       "      <td>1416.0</td>\n",
       "      <td>2.0</td>\n",
       "      <td>0</td>\n",
       "    </tr>\n",
       "    <tr>\n",
       "      <th>4</th>\n",
       "      <td>3000.0</td>\n",
       "      <td>4.0</td>\n",
       "      <td>0</td>\n",
       "    </tr>\n",
       "    <tr>\n",
       "      <th>5</th>\n",
       "      <td>1985.0</td>\n",
       "      <td>4.0</td>\n",
       "      <td>1</td>\n",
       "    </tr>\n",
       "    <tr>\n",
       "      <th>6</th>\n",
       "      <td>1534.0</td>\n",
       "      <td>3.0</td>\n",
       "      <td>0</td>\n",
       "    </tr>\n",
       "    <tr>\n",
       "      <th>7</th>\n",
       "      <td>1427.0</td>\n",
       "      <td>3.0</td>\n",
       "      <td>1</td>\n",
       "    </tr>\n",
       "    <tr>\n",
       "      <th>8</th>\n",
       "      <td>1380.0</td>\n",
       "      <td>3.0</td>\n",
       "      <td>1</td>\n",
       "    </tr>\n",
       "    <tr>\n",
       "      <th>9</th>\n",
       "      <td>1494.0</td>\n",
       "      <td>3.0</td>\n",
       "      <td>1</td>\n",
       "    </tr>\n",
       "  </tbody>\n",
       "</table>\n",
       "</div>"
      ],
      "text/plain": [
       "     area  bathrooms  y1\n",
       "0  2104.0        3.0   1\n",
       "1  1600.0        3.0   1\n",
       "2  2400.0        3.0   1\n",
       "3  1416.0        2.0   0\n",
       "4  3000.0        4.0   0\n",
       "5  1985.0        4.0   1\n",
       "6  1534.0        3.0   0\n",
       "7  1427.0        3.0   1\n",
       "8  1380.0        3.0   1\n",
       "9  1494.0        3.0   1"
      ]
     },
     "execution_count": 43,
     "metadata": {},
     "output_type": "execute_result"
    }
   ],
   "source": [
    "dataframe"
   ]
  },
  {
   "cell_type": "code",
   "execution_count": 44,
   "metadata": {
    "collapsed": true
   },
   "outputs": [],
   "source": [
    "dataframe.loc[:, (\"y2\")] = dataframe[\"y1\"] == 0"
   ]
  },
  {
   "cell_type": "code",
   "execution_count": 45,
   "metadata": {
    "collapsed": false
   },
   "outputs": [
    {
     "data": {
      "text/html": [
       "<div>\n",
       "<table border=\"1\" class=\"dataframe\">\n",
       "  <thead>\n",
       "    <tr style=\"text-align: right;\">\n",
       "      <th></th>\n",
       "      <th>area</th>\n",
       "      <th>bathrooms</th>\n",
       "      <th>y1</th>\n",
       "      <th>y2</th>\n",
       "    </tr>\n",
       "  </thead>\n",
       "  <tbody>\n",
       "    <tr>\n",
       "      <th>0</th>\n",
       "      <td>2104.0</td>\n",
       "      <td>3.0</td>\n",
       "      <td>1</td>\n",
       "      <td>False</td>\n",
       "    </tr>\n",
       "    <tr>\n",
       "      <th>1</th>\n",
       "      <td>1600.0</td>\n",
       "      <td>3.0</td>\n",
       "      <td>1</td>\n",
       "      <td>False</td>\n",
       "    </tr>\n",
       "    <tr>\n",
       "      <th>2</th>\n",
       "      <td>2400.0</td>\n",
       "      <td>3.0</td>\n",
       "      <td>1</td>\n",
       "      <td>False</td>\n",
       "    </tr>\n",
       "    <tr>\n",
       "      <th>3</th>\n",
       "      <td>1416.0</td>\n",
       "      <td>2.0</td>\n",
       "      <td>0</td>\n",
       "      <td>True</td>\n",
       "    </tr>\n",
       "    <tr>\n",
       "      <th>4</th>\n",
       "      <td>3000.0</td>\n",
       "      <td>4.0</td>\n",
       "      <td>0</td>\n",
       "      <td>True</td>\n",
       "    </tr>\n",
       "    <tr>\n",
       "      <th>5</th>\n",
       "      <td>1985.0</td>\n",
       "      <td>4.0</td>\n",
       "      <td>1</td>\n",
       "      <td>False</td>\n",
       "    </tr>\n",
       "    <tr>\n",
       "      <th>6</th>\n",
       "      <td>1534.0</td>\n",
       "      <td>3.0</td>\n",
       "      <td>0</td>\n",
       "      <td>True</td>\n",
       "    </tr>\n",
       "    <tr>\n",
       "      <th>7</th>\n",
       "      <td>1427.0</td>\n",
       "      <td>3.0</td>\n",
       "      <td>1</td>\n",
       "      <td>False</td>\n",
       "    </tr>\n",
       "    <tr>\n",
       "      <th>8</th>\n",
       "      <td>1380.0</td>\n",
       "      <td>3.0</td>\n",
       "      <td>1</td>\n",
       "      <td>False</td>\n",
       "    </tr>\n",
       "    <tr>\n",
       "      <th>9</th>\n",
       "      <td>1494.0</td>\n",
       "      <td>3.0</td>\n",
       "      <td>1</td>\n",
       "      <td>False</td>\n",
       "    </tr>\n",
       "  </tbody>\n",
       "</table>\n",
       "</div>"
      ],
      "text/plain": [
       "     area  bathrooms  y1     y2\n",
       "0  2104.0        3.0   1  False\n",
       "1  1600.0        3.0   1  False\n",
       "2  2400.0        3.0   1  False\n",
       "3  1416.0        2.0   0   True\n",
       "4  3000.0        4.0   0   True\n",
       "5  1985.0        4.0   1  False\n",
       "6  1534.0        3.0   0   True\n",
       "7  1427.0        3.0   1  False\n",
       "8  1380.0        3.0   1  False\n",
       "9  1494.0        3.0   1  False"
      ]
     },
     "execution_count": 45,
     "metadata": {},
     "output_type": "execute_result"
    }
   ],
   "source": [
    "dataframe"
   ]
  },
  {
   "cell_type": "code",
   "execution_count": 48,
   "metadata": {
    "collapsed": false
   },
   "outputs": [],
   "source": [
    "dataframe.loc[:, (\"y2\")] = dataframe[\"y2\"].astype(int)"
   ]
  },
  {
   "cell_type": "code",
   "execution_count": 49,
   "metadata": {
    "collapsed": false
   },
   "outputs": [
    {
     "data": {
      "text/html": [
       "<div>\n",
       "<table border=\"1\" class=\"dataframe\">\n",
       "  <thead>\n",
       "    <tr style=\"text-align: right;\">\n",
       "      <th></th>\n",
       "      <th>area</th>\n",
       "      <th>bathrooms</th>\n",
       "      <th>y1</th>\n",
       "      <th>y2</th>\n",
       "    </tr>\n",
       "  </thead>\n",
       "  <tbody>\n",
       "    <tr>\n",
       "      <th>0</th>\n",
       "      <td>2104.0</td>\n",
       "      <td>3.0</td>\n",
       "      <td>1</td>\n",
       "      <td>0</td>\n",
       "    </tr>\n",
       "    <tr>\n",
       "      <th>1</th>\n",
       "      <td>1600.0</td>\n",
       "      <td>3.0</td>\n",
       "      <td>1</td>\n",
       "      <td>0</td>\n",
       "    </tr>\n",
       "    <tr>\n",
       "      <th>2</th>\n",
       "      <td>2400.0</td>\n",
       "      <td>3.0</td>\n",
       "      <td>1</td>\n",
       "      <td>0</td>\n",
       "    </tr>\n",
       "    <tr>\n",
       "      <th>3</th>\n",
       "      <td>1416.0</td>\n",
       "      <td>2.0</td>\n",
       "      <td>0</td>\n",
       "      <td>1</td>\n",
       "    </tr>\n",
       "    <tr>\n",
       "      <th>4</th>\n",
       "      <td>3000.0</td>\n",
       "      <td>4.0</td>\n",
       "      <td>0</td>\n",
       "      <td>1</td>\n",
       "    </tr>\n",
       "    <tr>\n",
       "      <th>5</th>\n",
       "      <td>1985.0</td>\n",
       "      <td>4.0</td>\n",
       "      <td>1</td>\n",
       "      <td>0</td>\n",
       "    </tr>\n",
       "    <tr>\n",
       "      <th>6</th>\n",
       "      <td>1534.0</td>\n",
       "      <td>3.0</td>\n",
       "      <td>0</td>\n",
       "      <td>1</td>\n",
       "    </tr>\n",
       "    <tr>\n",
       "      <th>7</th>\n",
       "      <td>1427.0</td>\n",
       "      <td>3.0</td>\n",
       "      <td>1</td>\n",
       "      <td>0</td>\n",
       "    </tr>\n",
       "    <tr>\n",
       "      <th>8</th>\n",
       "      <td>1380.0</td>\n",
       "      <td>3.0</td>\n",
       "      <td>1</td>\n",
       "      <td>0</td>\n",
       "    </tr>\n",
       "    <tr>\n",
       "      <th>9</th>\n",
       "      <td>1494.0</td>\n",
       "      <td>3.0</td>\n",
       "      <td>1</td>\n",
       "      <td>0</td>\n",
       "    </tr>\n",
       "  </tbody>\n",
       "</table>\n",
       "</div>"
      ],
      "text/plain": [
       "     area  bathrooms  y1  y2\n",
       "0  2104.0        3.0   1   0\n",
       "1  1600.0        3.0   1   0\n",
       "2  2400.0        3.0   1   0\n",
       "3  1416.0        2.0   0   1\n",
       "4  3000.0        4.0   0   1\n",
       "5  1985.0        4.0   1   0\n",
       "6  1534.0        3.0   0   1\n",
       "7  1427.0        3.0   1   0\n",
       "8  1380.0        3.0   1   0\n",
       "9  1494.0        3.0   1   0"
      ]
     },
     "execution_count": 49,
     "metadata": {},
     "output_type": "execute_result"
    }
   ],
   "source": [
    "dataframe"
   ]
  },
  {
   "cell_type": "code",
   "execution_count": 52,
   "metadata": {
    "collapsed": true
   },
   "outputs": [],
   "source": [
    "inputX = dataframe.loc[:, [\"area\", \"bathrooms\"]].as_matrix()"
   ]
  },
  {
   "cell_type": "code",
   "execution_count": 53,
   "metadata": {
    "collapsed": false
   },
   "outputs": [
    {
     "data": {
      "text/plain": [
       "array([[  2.10400000e+03,   3.00000000e+00],\n",
       "       [  1.60000000e+03,   3.00000000e+00],\n",
       "       [  2.40000000e+03,   3.00000000e+00],\n",
       "       [  1.41600000e+03,   2.00000000e+00],\n",
       "       [  3.00000000e+03,   4.00000000e+00],\n",
       "       [  1.98500000e+03,   4.00000000e+00],\n",
       "       [  1.53400000e+03,   3.00000000e+00],\n",
       "       [  1.42700000e+03,   3.00000000e+00],\n",
       "       [  1.38000000e+03,   3.00000000e+00],\n",
       "       [  1.49400000e+03,   3.00000000e+00]])"
      ]
     },
     "execution_count": 53,
     "metadata": {},
     "output_type": "execute_result"
    }
   ],
   "source": [
    "inputX"
   ]
  },
  {
   "cell_type": "code",
   "execution_count": 54,
   "metadata": {
    "collapsed": true
   },
   "outputs": [],
   "source": [
    "inputY = dataframe.loc[:, [\"y1\", \"y2\"]].as_matrix()"
   ]
  },
  {
   "cell_type": "code",
   "execution_count": 55,
   "metadata": {
    "collapsed": false
   },
   "outputs": [
    {
     "data": {
      "text/plain": [
       "array([[1, 0],\n",
       "       [1, 0],\n",
       "       [1, 0],\n",
       "       [0, 1],\n",
       "       [0, 1],\n",
       "       [1, 0],\n",
       "       [0, 1],\n",
       "       [1, 0],\n",
       "       [1, 0],\n",
       "       [1, 0]])"
      ]
     },
     "execution_count": 55,
     "metadata": {},
     "output_type": "execute_result"
    }
   ],
   "source": [
    "inputY"
   ]
  },
  {
   "cell_type": "code",
   "execution_count": 56,
   "metadata": {
    "collapsed": true
   },
   "outputs": [],
   "source": [
    "learning_rate = 0.000001"
   ]
  },
  {
   "cell_type": "code",
   "execution_count": 57,
   "metadata": {
    "collapsed": true
   },
   "outputs": [],
   "source": [
    "train_epochs = 5000"
   ]
  },
  {
   "cell_type": "code",
   "execution_count": 58,
   "metadata": {
    "collapsed": true
   },
   "outputs": [],
   "source": [
    "display_step = 50"
   ]
  },
  {
   "cell_type": "code",
   "execution_count": 60,
   "metadata": {
    "collapsed": false
   },
   "outputs": [],
   "source": [
    "n_samples = inputY.size"
   ]
  },
  {
   "cell_type": "code",
   "execution_count": 62,
   "metadata": {
    "collapsed": false
   },
   "outputs": [],
   "source": [
    " import numpy as np\n",
    "x = np.array([[6, 4],\n",
    "               [9, 8],\n",
    "               [4, 32]])"
   ]
  },
  {
   "cell_type": "code",
   "execution_count": 64,
   "metadata": {
    "collapsed": false
   },
   "outputs": [
    {
     "data": {
      "text/plain": [
       "<tf.Tensor 'Sum:0' shape=() dtype=int64>"
      ]
     },
     "execution_count": 64,
     "metadata": {},
     "output_type": "execute_result"
    }
   ],
   "source": [
    "tf.reduce_sum(x)"
   ]
  },
  {
   "cell_type": "code",
   "execution_count": 67,
   "metadata": {
    "collapsed": false
   },
   "outputs": [
    {
     "name": "stdout",
     "output_type": "stream",
     "text": [
      "63\n"
     ]
    }
   ],
   "source": [
    "with tf.Session() as sess:\n",
    "    print(sess.run(tf.reduce_sum(x)))"
   ]
  },
  {
   "cell_type": "code",
   "execution_count": 68,
   "metadata": {
    "collapsed": true
   },
   "outputs": [],
   "source": [
    "x = tf.placeholder(tf.float32, [None, 2])"
   ]
  },
  {
   "cell_type": "code",
   "execution_count": 69,
   "metadata": {
    "collapsed": true
   },
   "outputs": [],
   "source": [
    "W = tf.Variable(tf.zeros([2, 2]))"
   ]
  },
  {
   "cell_type": "code",
   "execution_count": 72,
   "metadata": {
    "collapsed": false
   },
   "outputs": [],
   "source": [
    "b = tf.Variable(tf.zeros([2]))"
   ]
  },
  {
   "cell_type": "code",
   "execution_count": 73,
   "metadata": {
    "collapsed": true
   },
   "outputs": [],
   "source": [
    "y_values = tf.add(tf.matmul(x, W), b)"
   ]
  },
  {
   "cell_type": "code",
   "execution_count": 74,
   "metadata": {
    "collapsed": true
   },
   "outputs": [],
   "source": [
    "y = tf.nn.softmax(y_values)"
   ]
  },
  {
   "cell_type": "code",
   "execution_count": 75,
   "metadata": {
    "collapsed": true
   },
   "outputs": [],
   "source": [
    "y_ = tf.placeholder(tf.float32, [None, 2])"
   ]
  },
  {
   "cell_type": "code",
   "execution_count": 76,
   "metadata": {
    "collapsed": true
   },
   "outputs": [],
   "source": [
    "cost = tf.reduce_sum(tf.pow(y_ - y, 2)) / (2 * n_samples)"
   ]
  },
  {
   "cell_type": "code",
   "execution_count": 77,
   "metadata": {
    "collapsed": true
   },
   "outputs": [],
   "source": [
    "optimizer = tf.train.GradientDescentOptimizer(learning_rate).minimize(cost)"
   ]
  },
  {
   "cell_type": "code",
   "execution_count": 78,
   "metadata": {
    "collapsed": false
   },
   "outputs": [
    {
     "name": "stdout",
     "output_type": "stream",
     "text": [
      "WARNING:tensorflow:From <ipython-input-78-0f50547c66e8>:1: initialize_all_variables (from tensorflow.python.ops.variables) is deprecated and will be removed after 2017-03-02.\n",
      "Instructions for updating:\n",
      "Use `tf.global_variables_initializer` instead.\n"
     ]
    }
   ],
   "source": [
    "init = tf.initialize_all_variables()"
   ]
  },
  {
   "cell_type": "code",
   "execution_count": 79,
   "metadata": {
    "collapsed": true
   },
   "outputs": [],
   "source": [
    "sess = tf.Session()"
   ]
  },
  {
   "cell_type": "code",
   "execution_count": 80,
   "metadata": {
    "collapsed": true
   },
   "outputs": [],
   "source": [
    "sess.run(init)"
   ]
  },
  {
   "cell_type": "code",
   "execution_count": 84,
   "metadata": {
    "collapsed": false
   },
   "outputs": [
    {
     "name": "stdout",
     "output_type": "stream",
     "text": [
      "('Training step:', '0000', 'cost=', '0.111773349')\n",
      "('Training step:', '0050', 'cost=', '0.109539941')\n",
      "('Training step:', '0100', 'cost=', '0.109539881')\n",
      "('Training step:', '0150', 'cost=', '0.109539807')\n",
      "('Training step:', '0200', 'cost=', '0.109539725')\n",
      "('Training step:', '0250', 'cost=', '0.109539665')\n",
      "('Training step:', '0300', 'cost=', '0.109539591')\n",
      "('Training step:', '0350', 'cost=', '0.109539531')\n",
      "('Training step:', '0400', 'cost=', '0.109539464')\n",
      "('Training step:', '0450', 'cost=', '0.109539390')\n",
      "('Training step:', '0500', 'cost=', '0.109539315')\n",
      "('Training step:', '0550', 'cost=', '0.109539248')\n",
      "('Training step:', '0600', 'cost=', '0.109539188')\n",
      "('Training step:', '0650', 'cost=', '0.109539129')\n",
      "('Training step:', '0700', 'cost=', '0.109539054')\n",
      "('Training step:', '0750', 'cost=', '0.109538987')\n",
      "('Training step:', '0800', 'cost=', '0.109538928')\n",
      "('Training step:', '0850', 'cost=', '0.109538838')\n",
      "('Training step:', '0900', 'cost=', '0.109538779')\n",
      "('Training step:', '0950', 'cost=', '0.109538697')\n",
      "('Training step:', '1000', 'cost=', '0.109538652')\n",
      "('Training step:', '1050', 'cost=', '0.109538577')\n",
      "('Training step:', '1100', 'cost=', '0.109538510')\n",
      "('Training step:', '1150', 'cost=', '0.109538436')\n",
      "('Training step:', '1200', 'cost=', '0.109538376')\n",
      "('Training step:', '1250', 'cost=', '0.109538302')\n",
      "('Training step:', '1300', 'cost=', '0.109538235')\n",
      "('Training step:', '1350', 'cost=', '0.109538175')\n",
      "('Training step:', '1400', 'cost=', '0.109538101')\n",
      "('Training step:', '1450', 'cost=', '0.109538034')\n",
      "('Training step:', '1500', 'cost=', '0.109537959')\n",
      "('Training step:', '1550', 'cost=', '0.109537899')\n",
      "('Training step:', '1600', 'cost=', '0.109537825')\n",
      "('Training step:', '1650', 'cost=', '0.109537765')\n",
      "('Training step:', '1700', 'cost=', '0.109537683')\n",
      "('Training step:', '1750', 'cost=', '0.109537624')\n",
      "('Training step:', '1800', 'cost=', '0.109537557')\n",
      "('Training step:', '1850', 'cost=', '0.109537482')\n",
      "('Training step:', '1900', 'cost=', '0.109537408')\n",
      "('Training step:', '1950', 'cost=', '0.109537341')\n",
      "('Training step:', '2000', 'cost=', '0.109537289')\n",
      "('Training step:', '2050', 'cost=', '0.109537207')\n",
      "('Training step:', '2100', 'cost=', '0.109537147')\n",
      "('Training step:', '2150', 'cost=', '0.109537080')\n",
      "('Training step:', '2200', 'cost=', '0.109537005')\n",
      "('Training step:', '2250', 'cost=', '0.109536931')\n",
      "('Training step:', '2300', 'cost=', '0.109536871')\n",
      "('Training step:', '2350', 'cost=', '0.109536789')\n",
      "('Training step:', '2400', 'cost=', '0.109536745')\n",
      "('Training step:', '2450', 'cost=', '0.109536670')\n",
      "('Training step:', '2500', 'cost=', '0.109536603')\n",
      "('Training step:', '2550', 'cost=', '0.109536529')\n",
      "('Training step:', '2600', 'cost=', '0.109536454')\n",
      "('Training step:', '2650', 'cost=', '0.109536387')\n",
      "('Training step:', '2700', 'cost=', '0.109536313')\n",
      "('Training step:', '2750', 'cost=', '0.109536253')\n",
      "('Training step:', '2800', 'cost=', '0.109536193')\n",
      "('Training step:', '2850', 'cost=', '0.109536126')\n",
      "('Training step:', '2900', 'cost=', '0.109536052')\n",
      "('Training step:', '2950', 'cost=', '0.109535977')\n",
      "('Training step:', '3000', 'cost=', '0.109535918')\n",
      "('Training step:', '3050', 'cost=', '0.109535851')\n",
      "('Training step:', '3100', 'cost=', '0.109535776')\n",
      "('Training step:', '3150', 'cost=', '0.109535709')\n",
      "('Training step:', '3200', 'cost=', '0.109535649')\n",
      "('Training step:', '3250', 'cost=', '0.109535575')\n",
      "('Training step:', '3300', 'cost=', '0.109535500')\n",
      "('Training step:', '3350', 'cost=', '0.109535433')\n",
      "('Training step:', '3400', 'cost=', '0.109535359')\n",
      "('Training step:', '3450', 'cost=', '0.109535314')\n",
      "('Training step:', '3500', 'cost=', '0.109535240')\n",
      "('Training step:', '3550', 'cost=', '0.109535173')\n",
      "('Training step:', '3600', 'cost=', '0.109535098')\n",
      "('Training step:', '3650', 'cost=', '0.109535024')\n",
      "('Training step:', '3700', 'cost=', '0.109534957')\n",
      "('Training step:', '3750', 'cost=', '0.109534882')\n",
      "('Training step:', '3800', 'cost=', '0.109534815')\n",
      "('Training step:', '3850', 'cost=', '0.109534755')\n",
      "('Training step:', '3900', 'cost=', '0.109534696')\n",
      "('Training step:', '3950', 'cost=', '0.109534621')\n",
      "('Training step:', '4000', 'cost=', '0.109534547')\n",
      "('Training step:', '4050', 'cost=', '0.109534480')\n",
      "('Training step:', '4100', 'cost=', '0.109534405')\n",
      "('Training step:', '4150', 'cost=', '0.109534346')\n",
      "('Training step:', '4200', 'cost=', '0.109534286')\n",
      "('Training step:', '4250', 'cost=', '0.109534219')\n",
      "('Training step:', '4300', 'cost=', '0.109534144')\n",
      "('Training step:', '4350', 'cost=', '0.109534070')\n",
      "('Training step:', '4400', 'cost=', '0.109534003')\n",
      "('Training step:', '4450', 'cost=', '0.109533928')\n",
      "('Training step:', '4500', 'cost=', '0.109533869')\n",
      "('Training step:', '4550', 'cost=', '0.109533802')\n",
      "('Training step:', '4600', 'cost=', '0.109533742')\n",
      "('Training step:', '4650', 'cost=', '0.109533668')\n",
      "('Training step:', '4700', 'cost=', '0.109533593')\n",
      "('Training step:', '4750', 'cost=', '0.109533526')\n",
      "('Training step:', '4800', 'cost=', '0.109533451')\n",
      "('Training step:', '4850', 'cost=', '0.109533392')\n",
      "('Training step:', '4900', 'cost=', '0.109533310')\n",
      "('Training step:', '4950', 'cost=', '0.109533250')\n"
     ]
    }
   ],
   "source": [
    "for i in range(train_epochs):\n",
    "    sess.run(optimizer, feed_dict={x:inputX, y_:inputY})\n",
    "    \n",
    "    if i % display_step == 0:\n",
    "        cc = sess.run(cost, feed_dict={x:inputX, y_:inputY})\n",
    "        print(\"Training step:\", \"%04d\" % i, \"cost=\", \"{:.9f}\".format(cc))"
   ]
  },
  {
   "cell_type": "code",
   "execution_count": 85,
   "metadata": {
    "collapsed": false
   },
   "outputs": [
    {
     "name": "stdout",
     "output_type": "stream",
     "text": [
      "Finished!\n"
     ]
    }
   ],
   "source": [
    "print(\"Finished!\")"
   ]
  },
  {
   "cell_type": "code",
   "execution_count": 86,
   "metadata": {
    "collapsed": true
   },
   "outputs": [],
   "source": [
    "training_cost = sess.run(cost, feed_dict={x:inputX, y_:inputY})"
   ]
  },
  {
   "cell_type": "code",
   "execution_count": 87,
   "metadata": {
    "collapsed": false
   },
   "outputs": [
    {
     "data": {
      "text/plain": [
       "0.10953319"
      ]
     },
     "execution_count": 87,
     "metadata": {},
     "output_type": "execute_result"
    }
   ],
   "source": [
    "training_cost"
   ]
  },
  {
   "cell_type": "code",
   "execution_count": 88,
   "metadata": {
    "collapsed": false
   },
   "outputs": [
    {
     "name": "stdout",
     "output_type": "stream",
     "text": [
      "[[ 0.00021399 -0.000214  ]\n",
      " [ 0.00012764 -0.00012764]]\n"
     ]
    }
   ],
   "source": [
    "print(sess.run(W))"
   ]
  },
  {
   "cell_type": "code",
   "execution_count": 89,
   "metadata": {
    "collapsed": false
   },
   "outputs": [
    {
     "name": "stdout",
     "output_type": "stream",
     "text": [
      "[  2.96079634e-05  -2.96079743e-05]\n"
     ]
    }
   ],
   "source": [
    "print(sess.run(b))"
   ]
  },
  {
   "cell_type": "code",
   "execution_count": 90,
   "metadata": {
    "collapsed": false
   },
   "outputs": [
    {
     "data": {
      "text/plain": [
       "array([[ 0.71122015,  0.28877994],\n",
       "       [ 0.66498965,  0.33501038],\n",
       "       [ 0.7365284 ,  0.26347151],\n",
       "       [ 0.64716583,  0.35283419],\n",
       "       [ 0.78330857,  0.21669149],\n",
       "       [ 0.70070171,  0.29929829],\n",
       "       [ 0.65866762,  0.34133232],\n",
       "       [ 0.64829832,  0.35170174],\n",
       "       [ 0.64369822,  0.35630178],\n",
       "       [ 0.6548084 ,  0.34519163]], dtype=float32)"
      ]
     },
     "execution_count": 90,
     "metadata": {},
     "output_type": "execute_result"
    }
   ],
   "source": [
    "sess.run(y, feed_dict={x:inputX})"
   ]
  },
  {
   "cell_type": "code",
   "execution_count": 91,
   "metadata": {
    "collapsed": true
   },
   "outputs": [],
   "source": [
    "import math"
   ]
  },
  {
   "cell_type": "code",
   "execution_count": 93,
   "metadata": {
    "collapsed": false
   },
   "outputs": [
    {
     "data": {
      "text/plain": [
       "0.7310585786300049"
      ]
     },
     "execution_count": 93,
     "metadata": {},
     "output_type": "execute_result"
    }
   ],
   "source": [
    "math.exp(2) / (math.exp(1) + math.exp(2))"
   ]
  },
  {
   "cell_type": "code",
   "execution_count": null,
   "metadata": {
    "collapsed": true
   },
   "outputs": [],
   "source": []
  }
 ],
 "metadata": {
  "kernelspec": {
   "display_name": "Python 2",
   "language": "python",
   "name": "python2"
  },
  "language_info": {
   "codemirror_mode": {
    "name": "ipython",
    "version": 2
   },
   "file_extension": ".py",
   "mimetype": "text/x-python",
   "name": "python",
   "nbconvert_exporter": "python",
   "pygments_lexer": "ipython2",
   "version": "2.7.10"
  }
 },
 "nbformat": 4,
 "nbformat_minor": 2
}
